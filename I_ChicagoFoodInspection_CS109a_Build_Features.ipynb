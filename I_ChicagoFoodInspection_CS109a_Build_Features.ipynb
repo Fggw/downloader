{
 "cells": [
  {
   "cell_type": "markdown",
   "metadata": {},
   "source": [
    "## I. Build Features\n"
   ]
  },
  {
   "cell_type": "code",
   "execution_count": null,
   "metadata": {
    "collapsed": false
   },
   "outputs": [],
   "source": [
    "from download import main"
   ]
  },
  {
   "cell_type": "code",
   "execution_count": null,
   "metadata": {
    "collapsed": false,
    "scrolled": false
   },
   "outputs": [],
   "source": [
    "main(date=datetime.datetime.strptime('01/01/2010', '%m/%d/%Y'), export=True)"
   ]
  },
  {
   "cell_type": "code",
   "execution_count": null,
   "metadata": {
    "collapsed": false
   },
   "outputs": [],
   "source": [
    "import datetime\n",
    "import optparse\n",
    "import requests\n",
    "import numpy as np\n",
    "import pandas as pd\n",
    "from math import radians, cos, sin, asin, sqrt\n",
    "from sys import exit\n",
    "import math\n",
    "import matplotlib.pyplot as plt\n",
    "%matplotlib inline"
   ]
  },
  {
   "cell_type": "code",
   "execution_count": null,
   "metadata": {
    "collapsed": true
   },
   "outputs": [],
   "source": [
    "data = pd.read_csv('./data/DOWNLOADED_DATA.csv')"
   ]
  },
  {
   "cell_type": "code",
   "execution_count": null,
   "metadata": {
    "collapsed": true
   },
   "outputs": [],
   "source": [
    "result_possibilities = ['Pass', 'Fail', 'Pass w/ Conditions']\n",
    "valid_result_bools = [result in result_possibilities for result in data.results]\n",
    "data = data[valid_result_bools]"
   ]
  },
  {
   "cell_type": "code",
   "execution_count": null,
   "metadata": {
    "collapsed": false
   },
   "outputs": [],
   "source": [
    "def fail(result):\n",
    "    if 'Fail' in result:\n",
    "        return 1\n",
    "    else:\n",
    "        return 0   \n",
    "    \n",
    "def grocery_store(facility_type):\n",
    "    if 'Grocery Store' == facility_type:\n",
    "        return 1\n",
    "    else:\n",
    "        return 0"
   ]
  },
  {
   "cell_type": "code",
   "execution_count": null,
   "metadata": {
    "collapsed": false
   },
   "outputs": [],
   "source": [
    "data['result_binary'] = [fail(result) for result in data.results]\n",
    "data['grocery'] = [grocery_store(facility_type) for facility_type in data.facility_type]"
   ]
  },
  {
   "cell_type": "code",
   "execution_count": null,
   "metadata": {
    "collapsed": false
   },
   "outputs": [],
   "source": [
    "top_inspection_types = data.groupby('inspection_type').count().result_binary.sort_values(ascending=False).index[:10]\n",
    "top_inspection_types_sorted = data.groupby('inspection_type').mean().result_binary[top_inspection_types].sort_values(ascending=False).index\n",
    "\n",
    "fig = plt.figure() # Create matplotlib figure\n",
    "\n",
    "ax = fig.add_subplot(111) # Create matplotlib axes\n",
    "ax2 = ax.twinx() # Create another axes that shares the same x-axis as ax.\n",
    "width = 0.4\n",
    "\n",
    "data.groupby('inspection_type').mean().result_binary[top_inspection_types].sort_values(ascending=False).plot(kind='bar',color='r',ax = ax, alpha=0.7,width=width,position=0)\n",
    "data.groupby('inspection_type').count().result_binary[top_inspection_types_sorted].plot(kind='bar',color='b',ax = ax2, alpha=0.7,width=width,position=1)"
   ]
  },
  {
   "cell_type": "code",
   "execution_count": null,
   "metadata": {
    "collapsed": true
   },
   "outputs": [],
   "source": [
    "inspection_type_dummies = pd.get_dummies(data['inspection_type'])\n",
    "inspection_type_dummies = inspection_type_dummies[top_inspection_types]\n",
    "data = pd.concat([data,inspection_type_dummies],axis=1,join='inner')"
   ]
  },
  {
   "cell_type": "code",
   "execution_count": null,
   "metadata": {
    "collapsed": true
   },
   "outputs": [],
   "source": [
    "biz_cols = []\n",
    "for col in data.columns:\n",
    "    if 'business_activity' in col:\n",
    "        biz_cols.append(col)\n",
    "        \n",
    "count = []\n",
    "mean = []\n",
    "for col in biz_cols:\n",
    "    count.append(data[data[col] == 1].result_binary.mean())\n",
    "    mean.append(len(data[data[col] == 1].result_binary))"
   ]
  },
  {
   "cell_type": "code",
   "execution_count": null,
   "metadata": {
    "collapsed": false
   },
   "outputs": [],
   "source": [
    "biz_cols_mean = pd.Series(mean,biz_cols)\n",
    "biz_cols_count = pd.Series(count,biz_cols)\n",
    "\n",
    "biz_cols_count_top = biz_cols_count.sort_values(ascending=False).index[:10]\n",
    "\n",
    "\n",
    "biz_col_mean_sorted = biz_cols_mean[biz_cols_count_top].sort_values(ascending=False).index\n",
    "\n",
    "fig = plt.figure() # Create matplotlib figure\n",
    "\n",
    "ax = fig.add_subplot(111) # Create matplotlib axes\n",
    "ax2 = ax.twinx() # Create another axes that shares the same x-axis as ax.\n",
    "width = 0.4\n",
    "\n",
    "biz_cols_mean[biz_col_mean_sorted].sort_values(ascending=False).plot(kind='bar',color='r',ax = ax, alpha=0.7,width=width,position=0)\n",
    "biz_cols_count[biz_col_mean_sorted].plot(kind='bar',color='b',ax = ax2, alpha=0.7,width=width,position=1)"
   ]
  },
  {
   "cell_type": "code",
   "execution_count": null,
   "metadata": {
    "collapsed": false
   },
   "outputs": [],
   "source": [
    "biz_cols_counts = data[biz_cols].sum().sort_values()\n",
    "\n",
    "pass_rate = []\n",
    "count = []\n",
    "for col in biz_cols:\n",
    "    pass_rate.append(data[data[col] == 1].result_binary.mean())\n",
    "    pass_rate.append(data[data[col] == 1].result_binary.mean())    \n",
    "    \n",
    "top_n = 20\n",
    "top_license_counts = biz_cols_counts.ix[biz_cols_counts.index[-top_n:]]\n",
    "\n",
    "top_biz_counts_cols = list(biz_cols_counts.index[-top_n:])\n",
    "\n",
    "pass_rate = []\n",
    "for col in top_biz_counts_cols:\n",
    "    pass_rate.append(data[data[col] == 1].result_binary.mean())\n",
    "    \n",
    "top_biz_pass_rate = pd.Series(data = np.array(pass_rate),index=top_biz_counts_cols)"
   ]
  },
  {
   "cell_type": "code",
   "execution_count": null,
   "metadata": {
    "collapsed": false
   },
   "outputs": [],
   "source": [
    "pd.DataFrame(1-top_biz_pass_rate).plot(kind='bar')\n",
    "plt.show()\n",
    "pd.DataFrame(top_license_counts).plot(kind='bar')\n",
    "plt.show()"
   ]
  },
  {
   "cell_type": "code",
   "execution_count": null,
   "metadata": {
    "collapsed": true
   },
   "outputs": [],
   "source": [
    "keep_n=5\n",
    "all_license_cols = list(biz_cols)\n",
    "for col in list(biz_cols_counts.index[-keep_n:]):\n",
    "    all_license_cols.remove(col)\n",
    "\n",
    "drop_license_cols = all_license_cols\n",
    "data = data.drop(drop_license_cols,axis=1)"
   ]
  },
  {
   "cell_type": "code",
   "execution_count": null,
   "metadata": {
    "collapsed": false
   },
   "outputs": [],
   "source": [
    "data['inspection_date'] = pd.to_datetime(data['inspection_date'])\n",
    "#data['license_start_date'] = pd.to_datetime(data['license_start_date'])\n",
    "#data['date_issued'] = pd.to_datetime(data['date_issued'])\n",
    "data['creation_date'] = pd.to_datetime(data['creation_date'])"
   ]
  },
  {
   "cell_type": "code",
   "execution_count": null,
   "metadata": {
    "collapsed": false
   },
   "outputs": [],
   "source": [
    "# weather_data_ohare = pd.read_csv('Ohare Weather Data.csv')\n",
    "# weather_data_midway = pd.read_csv('Midway Weather Data.csv')\n",
    "weather_data_ohare = pd.read_csv('./data/Ohare Weather Data.csv')\n",
    "weather_data_midway = pd.read_csv('./data/Midway Weather Data.csv')\n",
    "\n",
    "weather_data_ohare['inspection_date'] = [datetime.datetime.strptime(str(DATE), '%Y%m%d') for DATE in weather_data_ohare.DATE]\n",
    "weather_data_midway['inspection_date'] = [datetime.datetime.strptime(str(DATE), '%Y%m%d') for DATE in weather_data_midway.DATE]\n",
    "temp_data_ohare = weather_data_ohare.set_index(['inspection_date'])[['TMAX']]\n",
    "temp_data_midway = weather_data_midway.set_index(['inspection_date'])[['TMAX']]\n",
    "\n",
    "temp_data_ohare['TMAX_3DayAvg'] = pd.rolling_mean(temp_data_ohare.TMAX,3)\n",
    "temp_data_ohare['TMAX_10DayAvg'] = pd.rolling_mean(temp_data_ohare.TMAX,10)\n",
    "temp_data_ohare['TMAX_30DayAvg'] = pd.rolling_mean(temp_data_ohare.TMAX,30)\n",
    "\n",
    "temp_data_midway['TMAX_3DayAvg'] = pd.rolling_mean(temp_data_midway.TMAX,3)\n",
    "temp_data_midway['TMAX_10DayAvg'] = pd.rolling_mean(temp_data_midway.TMAX,10)\n",
    "temp_data_midway['TMAX_30DayAvg'] = pd.rolling_mean(temp_data_midway.TMAX,30)\n",
    "data = data.join(temp_data_midway, on='inspection_date')"
   ]
  },
  {
   "cell_type": "code",
   "execution_count": null,
   "metadata": {
    "collapsed": true
   },
   "outputs": [],
   "source": [
    "import re\n",
    "\n",
    "critical_flags = re.compile(r'(\\bCRITICAL\\b)',flags = re.IGNORECASE)\n",
    "serious_flags = re.compile(r'(\\bSERIOUS\\b)',flags = re.IGNORECASE)\n",
    "citation_flags = re.compile(r'(\\bCITATION\\b)',flags = re.IGNORECASE)\n",
    "violation_flags = re.compile(r'(\\bVIOLATION\\b)',flags = re.IGNORECASE)\n",
    "minor_flags = re.compile(r'(\\bMINOR\\b)',flags = re.IGNORECASE)\n",
    "corrected_flags = re.compile(r'(\\bCORRECTED\\b)',flags = re.IGNORECASE)\n"
   ]
  },
  {
   "cell_type": "code",
   "execution_count": null,
   "metadata": {
    "collapsed": false
   },
   "outputs": [],
   "source": [
    "violations_count = []\n",
    "citations_count = []\n",
    "critical_count = []\n",
    "serious_count = []\n",
    "minor_count = []\n",
    "corrected_count = []\n",
    "\n",
    "LOG_EVERY_N = 10000\n",
    "\n",
    "\n",
    "  \n",
    "for index in data.index:\n",
    "    text = data.ix[index].violations\n",
    "    \n",
    "    if type(text) == type(' '):\n",
    "        violations_count.append(violation_flags.subn('',text)[1])\n",
    "        citations_count.append(citation_flags.subn('',text)[1])\n",
    "        critical_count.append(critical_flags.subn('',text)[1])\n",
    "        serious_count.append(serious_flags.subn('',text)[1])\n",
    "        minor_count.append(minor_flags.subn('',text)[1])\n",
    "        corrected_count.append(corrected_flags.subn('',text)[1])\n",
    "\n",
    "\n",
    "    else:\n",
    "        violations_count.append(float('nan'))\n",
    "        citations_count.append(float('nan'))\n",
    "        critical_count.append(float('nan'))\n",
    "        serious_count.append(float('nan'))\n",
    "        minor_count.append(float('nan'))\n",
    "        corrected_count.append(float('nan'))\n",
    "\n",
    "        \n",
    "    if (index % LOG_EVERY_N) == 0:\n",
    "        print index\n"
   ]
  },
  {
   "cell_type": "code",
   "execution_count": null,
   "metadata": {
    "collapsed": true
   },
   "outputs": [],
   "source": [
    "data['violations_count'] = violations_count\n",
    "data['citations_count'] = citations_count\n",
    "data['critical_count'] = critical_count\n",
    "data['serious_count'] = serious_count\n",
    "data['minor_count'] = minor_count\n",
    "data['corrected_count'] = corrected_count\n",
    "\n",
    "\n"
   ]
  },
  {
   "cell_type": "code",
   "execution_count": null,
   "metadata": {
    "collapsed": false
   },
   "outputs": [],
   "source": [
    "# compare pass rates for different violation counts\n",
    "bins = np.linspace(0,6,7)\n",
    "data[data.result_binary == 1].citations_count.hist(normed=False,alpha=0.5,bins=bins)\n",
    "data[data.result_binary == 0].citations_count.hist(normed=False,alpha=0.5,bins=bins)"
   ]
  },
  {
   "cell_type": "code",
   "execution_count": null,
   "metadata": {
    "collapsed": false
   },
   "outputs": [],
   "source": [
    "def prev_inspection_features(data,inspection_id,date):\n",
    "    current_inspection = data.ix[data[data.inspection_id==inspection_id].index[0]]\n",
    "    \n",
    "    all_inspections = data[data.license_ == current_inspection.license_]\n",
    "    \n",
    "    previous_inspections = all_inspections[all_inspections.inspection_date < date]\n",
    "    if len(previous_inspections) >= 1:\n",
    "        last_inspection_index = previous_inspections.inspection_date.sort_values().index[-1]\n",
    "        fraction = previous_inspections.result_binary.mean()\n",
    "        count = previous_inspections.result_binary.count()\n",
    "        last = previous_inspections.result_binary[last_inspection_index]\n",
    "        \n",
    "        #if type(pd.to_datetime('nan')) != type(current_inspection.license_start_date):\n",
    "        #    license_age = current_inspection.inspection_date - current_inspection.license_start_date\n",
    "        #    license_age = license_age.days\n",
    "        #    if license_age <= 0:\n",
    "        #        license_age = 0\n",
    "        #else:\n",
    "        #    license_age = float('nan')\n",
    "            \n",
    "        time_since_last = current_inspection.inspection_date - previous_inspections.ix[last_inspection_index].inspection_date\n",
    "        time_since_last = time_since_last.days\n",
    "        \n",
    "        prev_violations = previous_inspections.violations_count[last_inspection_index]\n",
    "        prev_citations = previous_inspections.citations_count[last_inspection_index]\n",
    "        prev_critical = previous_inspections.critical_count[last_inspection_index]\n",
    "        prev_serious = previous_inspections.serious_count[last_inspection_index]\n",
    "        prev_minor = previous_inspections.minor_count[last_inspection_index]\n",
    "        prev_corrected = previous_inspections.corrected_count[last_inspection_index]\n",
    "\n",
    "    else:\n",
    "        fraction = float('nan')\n",
    "        count = 0\n",
    "        last = float('nan')\n",
    "        license_age = float('nan')\n",
    "        time_since_last = float('nan')\n",
    "        prev_violations = float('nan')\n",
    "        prev_citations = float('nan')\n",
    "        prev_critical = float('nan')\n",
    "        prev_serious = float('nan')\n",
    "        prev_minor = float('nan')\n",
    "        prev_corrected = float('nan')\n",
    "\n",
    "    return np.array([count,\n",
    "                     fraction,\n",
    "                     last,\n",
    "                     #license_age,\n",
    "                     time_since_last,\n",
    "                     prev_violations,\n",
    "                     prev_citations,\n",
    "                     prev_critical,\n",
    "                     prev_serious,\n",
    "                     prev_minor,\n",
    "                     prev_corrected])"
   ]
  },
  {
   "cell_type": "code",
   "execution_count": null,
   "metadata": {
    "collapsed": false,
    "scrolled": false
   },
   "outputs": [],
   "source": [
    "#previous_inspection_features = np.zeros((len(data.index),11))\n",
    "\n",
    "previous_inspection_features = np.zeros((len(data.index),10))\n",
    "\n",
    "LOG_EVERY_N = 10000\n",
    "for i in range(len(data.index)):\n",
    "    index = data.index[i]\n",
    "    previous_inspection_features[i,:] = prev_inspection_features(data,data.ix[index].inspection_id,data.ix[index].inspection_date)\n",
    "    if (index % LOG_EVERY_N) == 0:\n",
    "        print index"
   ]
  },
  {
   "cell_type": "code",
   "execution_count": null,
   "metadata": {
    "collapsed": true
   },
   "outputs": [],
   "source": [
    "data['previous_count'] = previous_inspection_features[:,0]\n",
    "data['previous_fraction'] = previous_inspection_features[:,1]\n",
    "data['previous_result'] = previous_inspection_features[:,2]\n",
    "#data['license_age'] = previous_inspection_features[:,3]\n",
    "data['time_since_last_inspection'] = previous_inspection_features[:,3]\n",
    "data['previous_violations'] = previous_inspection_features[:,4]\n",
    "data['previous_citations'] = previous_inspection_features[:,5]\n",
    "data['previous_critical'] = previous_inspection_features[:,6]\n",
    "data['previous_serious'] = previous_inspection_features[:,7]\n",
    "data['previous_minor'] = previous_inspection_features[:,8]\n",
    "data['previous_corrected'] = previous_inspection_features[:,9]"
   ]
  },
  {
   "cell_type": "code",
   "execution_count": null,
   "metadata": {
    "collapsed": false
   },
   "outputs": [],
   "source": [
    "for col in data.columns:\n",
    "    print col"
   ]
  },
  {
   "cell_type": "code",
   "execution_count": null,
   "metadata": {
    "collapsed": false
   },
   "outputs": [],
   "source": [
    "data.to_csv('./data/data_built_features.csv',index=False)"
   ]
  }
 ],
 "metadata": {
  "kernelspec": {
   "display_name": "Python 2",
   "language": "python",
   "name": "python2"
  },
  "language_info": {
   "codemirror_mode": {
    "name": "ipython",
    "version": 2
   },
   "file_extension": ".py",
   "mimetype": "text/x-python",
   "name": "python",
   "nbconvert_exporter": "python",
   "pygments_lexer": "ipython2",
   "version": "2.7.11"
  }
 },
 "nbformat": 4,
 "nbformat_minor": 0
}
