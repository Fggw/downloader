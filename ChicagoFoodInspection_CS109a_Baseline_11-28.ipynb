{
 "cells": [
  {
   "cell_type": "markdown",
   "metadata": {},
   "source": [
    "## Data pull, parsing and preliminary modeling\n",
    "#### CS109a - Sam, Luke, Jake, Jeremy\n",
    "#### Chicago Food Inspection Forecasting\n",
    "#### Last Updated: 11/28/16"
   ]
  },
  {
   "cell_type": "code",
   "execution_count": 4,
   "metadata": {
    "collapsed": false
   },
   "outputs": [],
   "source": [
    "from download import main"
   ]
  },
  {
   "cell_type": "code",
   "execution_count": 5,
   "metadata": {
    "collapsed": false
   },
   "outputs": [],
   "source": [
    "import datetime\n",
    "import optparse\n",
    "import requests\n",
    "import numpy as np\n",
    "import pandas as pd\n",
    "from math import radians, cos, sin, asin, sqrt\n",
    "from sys import exit\n",
    "import math\n",
    "import matplotlib.pyplot as plt\n",
    "%matplotlib inline"
   ]
  },
  {
   "cell_type": "code",
   "execution_count": 6,
   "metadata": {
    "collapsed": false,
    "scrolled": false
   },
   "outputs": [
    {
     "name": "stdout",
     "output_type": "stream",
     "text": [
      "Fetching data beginning 2015-01-01.\n",
      "38800 records received. Finding businesses...\n",
      "Succeeded!\n",
      "Succeeded!\n",
      "Succeeded!\n",
      "Succeeded!\n",
      "Succeeded!\n",
      "Succeeded!\n",
      "Succeeded!\n",
      "Succeeded!\n",
      "Succeeded!\n",
      "Succeeded!\n",
      "Succeeded!\n",
      "Succeeded!\n",
      "Succeeded!\n",
      "Succeeded!\n",
      "Succeeded!\n",
      "Succeeded!\n",
      "Succeeded!\n",
      "Succeeded!\n",
      "Succeeded!\n",
      "Succeeded!\n",
      "Succeeded!\n",
      "{u'errorCode': u'query.soql.type-mismatch', u'message': u'Query coordinator error: query.soql.type-mismatch; Type mismatch for #IN, is text; position: Map(row -> 1, column -> 765, line -> \"SELECT * WHERE `license_number` IN (\\'1766122\\',\\'55059\\',\\'2093205\\',\\'3305802\\',\\'2327216\\',\\'55054\\',\\'2405981\\',\\'51574\\',\\'2333015\\',\\'2443184\\',\\'1197155\\',\\'2138566\\',\\'1677809\\',\\'2354588\\',\\'66710\\',\\'1878490\\',\\'2354580\\',\\'2442851\\',\\'2442853\\',\\'1766349\\',\\'2294041\\',\\'1069050\\',\\'2142330\\',\\'1739804\\',\\'1717915\\',\\'1717917\\',\\'2404720\\',\\'2308785\\',\\'1094390\\',\\'12532\\',\\'2446795\\',\\'2404721\\',\\'2233259\\',\\'2327082\\',\\'2443459\\',\\'1334960\\',\\'2036917\\',\\'2215771\\',\\'2215770\\',\\'2215777\\',\\'2215776\\',\\'2215775\\',\\'2463791\\',\\'2392023\\',\\'2446798\\',\\'2027806\\',\\'2404726\\',\\'1718943\\',\\'1275144\\',\\'2496338\\',\\'42500\\',\\'1143174\\',\\'2391284\\',\\'2496331\\',\\'2391287\\',\\'1943629\\',\\'2298875\\',\\'2246695\\',\\'2299030\\',\\'2246698\\',\\'1043966\\',\\'2397614\\',\\'2397617\\',\\'2261756\\',\\'2359520\\',\\'2234154\\',\\'2452034\\',\\'2452033\\',\\'2431798\\',\\'2263338\\',\\'2458054\\',\\'1677413\\',\\'2431793\\',\\'2353933\\',\\'None\\',\\'2189415\\',\\'2064629\\',\\'2437653\\',\\'2379265\\',\\'2119751\\',\\'65747\\',\\'2320970\\',\\'1958784\\',\\'2374704\\',\\'42230\\',\\'2495878\\',\\'1473478\\',\\'2390882\\',\\'2428021\\',\\'2428020\\',\\'2412519\\',\\'1141823\\',\\'2283633\\',\\'3240691\\',\\'2470443\\',\\'2412223\\',\\'2314218\\',\\'2314219\\',\\'1998454\\',\\'2179747\\',\\'86905\\',\\'2141683\\',\\'2398979\\',\\'2314740\\',\\'49671\\',\\'2093201\\',\\'49672\\',\\'46371\\',\\'46373\\',\\'2313776\\',\\'63191\\',\\'2313774\\',\\'2313773\\',\\'2333013\\',\\'1876\\',\\'2156721\\',\\'1473518\\',\\'1473519\\',\\'1872\\',\\'2046676\\',\\'2283248\\',\\'9612\\',\\'2326845\\',\\'1473514\\',\\'1879\\',\\'1331747\\',\\'4941\\',\\'45575\\',\\'2283942\\',\\'1646292\\',\\'1680919\\',\\'1594765\\',\\'2476232\\',\\'1196417\\',\\'2115\\',\\'1959786\\',\\'1579838\\',\\'1847167\\',\\'2333907\\',\\'2373979\\',\\'2340710\\',\\'1918\\',\\'5108\\',\\'1980781\\',\\'1948417\\',\\'2464943\\',\\'2341176\\',\\'2206667\\',\\'2386015\\',\\'2358909\\',\\'1969508\\',\\'1598049\\',\\'2359986\\',\\'2179704\\',\\'2179700\\',\\'2492527\\',\\'2179250\\',\\'2446580\\',\\'2358584\\',\\'33349\\',\\'1979829\\',\\'2358587\\',\\'2196302\\',\\'54665\\',\\'33346\\',\\'33347\\',\\'33340\\',\\'33341\\',\\'33342\\',\\'18234\\',\\'2220686\\',\\'2290074\\',\\'2354858\\',\\'2423626\\',\\'2423625\\',\\'2262589\\',\\'1772245\\',\\'62717\\',\\'1772247\\',\\'2215658\\',\\'2245613\\',\\'2092912\\',\\'2215659\\',\\'1742786\\',\\'1096355\\',\\'1096426\\',\\'2463438\\',\\'1869376\\',\\'2447181\\',\\'2033242\\',\\'2321636\\',\\'1595410\\',\\'15779\\',\\'1801271\\',\\'2130225\\',\\'2398736\\',\\'15777\\',\\'2348814\\',\\'15771\\',\\'2398730\\',\\'2240853\\',\\'2437294\\',\\'2120593\\',\\'1742870\\',\\'2215654\\',\\'2138051\\',\\'1980784\\',\\'1878504\\',\\'1878507\\',\\'1878500\\',\\'2496273\\',\\'1878502\\',\\'1878503\\',\\'2078749\\',\\'9586\\',\\'2215657\\',\\'2349632\\',\\'2303873\\',\\'2215915\\',\\'2390709\\',\\'2432155\\',\\'2390702\\',\\'2340368\\',\\'2215540\\',\\'2215541\\',\\'2076639\\',\\'2076638\\',\\'2215544\\',\\'2215545\\',\\'1043148\\',\\'2215547\\',\\'2215548\\',\\'2207227\\',\\'59417\\',\\'34396\\',\\'1381046\\',\\'2341198\\',\\'2359065\\',\\'1489731\\',\\'2432414\\',\\'2432412\\',\\'2432411\\',\\'2432410\\',\\'2308085\\',\\'2129757\\',\\'1915548\\',\\'2304473\\',\\'2069938\\',\\'2423350\\',\\'2083683\\',\\'34641\\',\\'2137667\\',\\'1846595\\',\\'2278765\\',\\'1170990\\',\\'2202944\\',\\'1947771\\',\\'9821\\',\\'2368267\\',\\'2368265\\',\\'1444847\\',\\'2463497\\',\\'1617552\\',\\'2307779\\',\\'2271372\\',\\'2153429\\',\\'1514802\\',\\'2162294\\',\\'1595096\\',\\'1820435\\',\\'2452205\\',\\'44843\\',\\'1974706\\',\\'2279587\\',\\'1974703\\',\\'2411998\\',\\'23161\\',\\'2026186\\',\\'2055100\\',\\'2464942\\',\\'1166476\\',\\'1891776\\',\\'2232394\\',\\'2232395\\',\\'2321213\\',\\'2232390\\',\\'2256680\\',\\'1140213\\',\\'1823527\\',\\'2379132\\',\\'1823522\\',\\'8042\\',\\'2137193\\',\\'2379137\\',\\'2428258\\',\\'1120265\\',\\'2488624\\',\\'1495274\\',\\'2058664\\',\\'2058666\\') LIMIT 10000000\\\\n                                                                                                                                                                                                                                                                                                                                                                                                                                                                                                                                                                                                                                                                                                                                                                                            ^\")', u'data': {u'function': u'#IN', u'position': {u'column': 765, u'line': u\"SELECT * WHERE `license_number` IN ('1766122','55059','2093205','3305802','2327216','55054','2405981','51574','2333015','2443184','1197155','2138566','1677809','2354588','66710','1878490','2354580','2442851','2442853','1766349','2294041','1069050','2142330','1739804','1717915','1717917','2404720','2308785','1094390','12532','2446795','2404721','2233259','2327082','2443459','1334960','2036917','2215771','2215770','2215777','2215776','2215775','2463791','2392023','2446798','2027806','2404726','1718943','1275144','2496338','42500','1143174','2391284','2496331','2391287','1943629','2298875','2246695','2299030','2246698','1043966','2397614','2397617','2261756','2359520','2234154','2452034','2452033','2431798','2263338','2458054','1677413','2431793','2353933','None','2189415','2064629','2437653','2379265','2119751','65747','2320970','1958784','2374704','42230','2495878','1473478','2390882','2428021','2428020','2412519','1141823','2283633','3240691','2470443','2412223','2314218','2314219','1998454','2179747','86905','2141683','2398979','2314740','49671','2093201','49672','46371','46373','2313776','63191','2313774','2313773','2333013','1876','2156721','1473518','1473519','1872','2046676','2283248','9612','2326845','1473514','1879','1331747','4941','45575','2283942','1646292','1680919','1594765','2476232','1196417','2115','1959786','1579838','1847167','2333907','2373979','2340710','1918','5108','1980781','1948417','2464943','2341176','2206667','2386015','2358909','1969508','1598049','2359986','2179704','2179700','2492527','2179250','2446580','2358584','33349','1979829','2358587','2196302','54665','33346','33347','33340','33341','33342','18234','2220686','2290074','2354858','2423626','2423625','2262589','1772245','62717','1772247','2215658','2245613','2092912','2215659','1742786','1096355','1096426','2463438','1869376','2447181','2033242','2321636','1595410','15779','1801271','2130225','2398736','15777','2348814','15771','2398730','2240853','2437294','2120593','1742870','2215654','2138051','1980784','1878504','1878507','1878500','2496273','1878502','1878503','2078749','9586','2215657','2349632','2303873','2215915','2390709','2432155','2390702','2340368','2215540','2215541','2076639','2076638','2215544','2215545','1043148','2215547','2215548','2207227','59417','34396','1381046','2341198','2359065','1489731','2432414','2432412','2432411','2432410','2308085','2129757','1915548','2304473','2069938','2423350','2083683','34641','2137667','1846595','2278765','1170990','2202944','1947771','9821','2368267','2368265','1444847','2463497','1617552','2307779','2271372','2153429','1514802','2162294','1595096','1820435','2452205','44843','1974706','2279587','1974703','2411998','23161','2026186','2055100','2464942','1166476','1891776','2232394','2232395','2321213','2232390','2256680','1140213','1823527','2379132','1823522','8042','2137193','2379137','2428258','1120265','2488624','1495274','2058664','2058666') LIMIT 10000000\\n                                                                                                                                                                                                                                                                                                                                                                                                                                                                                                                                                                                                                                                                                                                                                                                            ^\", u'row': 1}, u'type': u'text', u'dataset': u'alpha.10312'}}\n",
      "Succeeded!\n",
      "Succeeded!\n",
      "Succeeded!\n",
      "Succeeded!\n",
      "Succeeded!\n",
      "Succeeded!\n",
      "Succeeded!\n",
      "Succeeded!\n",
      "Succeeded!\n",
      "Succeeded!\n",
      "Succeeded!\n",
      "Succeeded!\n",
      "Succeeded!\n",
      "Succeeded!\n",
      "Succeeded!\n",
      "Succeeded!\n",
      "Succeeded!\n",
      "Succeeded!\n",
      "Succeeded!\n",
      "Succeeded!\n",
      "Succeeded!\n",
      "Succeeded!\n",
      "Succeeded!\n",
      "Succeeded!\n",
      "Succeeded!\n",
      "Succeeded!\n",
      "Succeeded!\n",
      "Succeeded!\n",
      "Succeeded!\n",
      "Succeeded!\n",
      "Succeeded!\n",
      "Succeeded!\n",
      "Succeeded!\n",
      "RECEIVED 66130 business details\n",
      "Succeeded!\n",
      "Succeeded!\n",
      "Succeeded!\n",
      "Succeeded!\n",
      "Succeeded!\n",
      "Succeeded!\n",
      "Succeeded!\n",
      "Succeeded!\n",
      "Succeeded!\n",
      "Succeeded!\n",
      "Succeeded!\n",
      "Succeeded!\n",
      "Succeeded!\n",
      "Succeeded!\n",
      "Succeeded!\n",
      "Succeeded!\n",
      "Succeeded!\n",
      "Succeeded!\n",
      "Succeeded!\n",
      "Succeeded!\n",
      "Succeeded!\n",
      "Succeeded!\n",
      "Succeeded!\n",
      "Succeeded!\n",
      "Succeeded!\n",
      "Succeeded!\n",
      "Succeeded!\n",
      "Succeeded!\n",
      "Succeeded!\n",
      "Succeeded!\n",
      "Succeeded!\n",
      "Succeeded!\n",
      "Succeeded!\n",
      "Succeeded!\n",
      "Succeeded!\n",
      "Succeeded!\n",
      "Succeeded!\n",
      "Succeeded!\n",
      "Succeeded!\n",
      "SANITATION LEN: 39380\n",
      "CRIME LEN: 503788"
     ]
    },
    {
     "name": "stderr",
     "output_type": "stream",
     "text": [
      "/usr/local/lib/python2.7/site-packages/numpy/lib/arraysetops.py:200: FutureWarning: numpy not_equal will not check object identity in the future. The comparison did not return the same result as suggested by the identity (`is`)) and will change.\n",
      "  flag = np.concatenate(([True], aux[1:] != aux[:-1]))\n",
      "Exception "
     ]
    },
    {
     "name": "stdout",
     "output_type": "stream",
     "text": [
      "\n"
     ]
    },
    {
     "name": "stderr",
     "output_type": "stream",
     "text": [
      "KeyboardInterrupt in 'zmq.backend.cython.message.Frame.__dealloc__' ignored\n"
     ]
    },
    {
     "ename": "KeyboardInterrupt",
     "evalue": "",
     "output_type": "error",
     "traceback": [
      "\u001b[0;31m---------------------------------------------------------------------------\u001b[0m",
      "\u001b[0;31mKeyboardInterrupt\u001b[0m                         Traceback (most recent call last)",
      "\u001b[0;32m<ipython-input-6-91bd8471f906>\u001b[0m in \u001b[0;36m<module>\u001b[0;34m()\u001b[0m\n\u001b[0;32m----> 1\u001b[0;31m \u001b[0mmain\u001b[0m\u001b[0;34m(\u001b[0m\u001b[0mdate\u001b[0m\u001b[0;34m=\u001b[0m\u001b[0mdatetime\u001b[0m\u001b[0;34m.\u001b[0m\u001b[0mdatetime\u001b[0m\u001b[0;34m.\u001b[0m\u001b[0mstrptime\u001b[0m\u001b[0;34m(\u001b[0m\u001b[0;34m'01/01/2015'\u001b[0m\u001b[0;34m,\u001b[0m \u001b[0;34m'%m/%d/%Y'\u001b[0m\u001b[0;34m)\u001b[0m\u001b[0;34m,\u001b[0m \u001b[0mexport\u001b[0m\u001b[0;34m=\u001b[0m\u001b[0mTrue\u001b[0m\u001b[0;34m)\u001b[0m\u001b[0;34m\u001b[0m\u001b[0m\n\u001b[0m",
      "\u001b[0;32m/Users/SamuelGreen/Dropbox/__SeniorFall/Stat121/project/downloader/download.pyc\u001b[0m in \u001b[0;36mmain\u001b[0;34m(date, export)\u001b[0m\n\u001b[1;32m    339\u001b[0m     \u001b[0mxedges\u001b[0m \u001b[0;34m=\u001b[0m \u001b[0mnp\u001b[0m\u001b[0;34m.\u001b[0m\u001b[0mlinspace\u001b[0m\u001b[0;34m(\u001b[0m\u001b[0minsp_biz_df\u001b[0m\u001b[0;34m.\u001b[0m\u001b[0mlatitude\u001b[0m\u001b[0;34m.\u001b[0m\u001b[0mmin\u001b[0m\u001b[0;34m(\u001b[0m\u001b[0;34m)\u001b[0m\u001b[0;34m,\u001b[0m\u001b[0minsp_biz_df\u001b[0m\u001b[0;34m.\u001b[0m\u001b[0mlatitude\u001b[0m\u001b[0;34m.\u001b[0m\u001b[0mmax\u001b[0m\u001b[0;34m(\u001b[0m\u001b[0;34m)\u001b[0m\u001b[0;34m,\u001b[0m\u001b[0mn_lat_bins\u001b[0m\u001b[0;34m+\u001b[0m\u001b[0;36m1\u001b[0m\u001b[0;34m)\u001b[0m\u001b[0;34m\u001b[0m\u001b[0m\n\u001b[1;32m    340\u001b[0m     \u001b[0mbucket_points\u001b[0m \u001b[0;34m=\u001b[0m \u001b[0mlist\u001b[0m\u001b[0;34m(\u001b[0m\u001b[0mitertools\u001b[0m\u001b[0;34m.\u001b[0m\u001b[0mproduct\u001b[0m\u001b[0;34m(\u001b[0m\u001b[0mxedges\u001b[0m\u001b[0;34m,\u001b[0m \u001b[0myedges\u001b[0m\u001b[0;34m)\u001b[0m\u001b[0;34m)\u001b[0m\u001b[0;34m\u001b[0m\u001b[0m\n\u001b[0;32m--> 341\u001b[0;31m     \u001b[0mnearby_subsets\u001b[0m \u001b[0;34m=\u001b[0m \u001b[0;34m[\u001b[0m\u001b[0mcrime_to_buckets\u001b[0m\u001b[0;34m(\u001b[0m\u001b[0mcrime_df\u001b[0m\u001b[0;34m,\u001b[0m \u001b[0mp\u001b[0m\u001b[0;34m)\u001b[0m \u001b[0;32mfor\u001b[0m \u001b[0mp\u001b[0m \u001b[0;32min\u001b[0m \u001b[0mbucket_points\u001b[0m\u001b[0;34m]\u001b[0m\u001b[0;34m\u001b[0m\u001b[0m\n\u001b[0m\u001b[1;32m    342\u001b[0m \u001b[0;34m\u001b[0m\u001b[0m\n\u001b[1;32m    343\u001b[0m     \u001b[0mcdf\u001b[0m \u001b[0;34m=\u001b[0m \u001b[0mcrime_df\u001b[0m\u001b[0;34m.\u001b[0m\u001b[0mset_index\u001b[0m\u001b[0;34m(\u001b[0m\u001b[0;34m'date'\u001b[0m\u001b[0;34m)\u001b[0m\u001b[0;34m\u001b[0m\u001b[0m\n",
      "\u001b[0;32m/Users/SamuelGreen/Dropbox/__SeniorFall/Stat121/project/downloader/download.pyc\u001b[0m in \u001b[0;36mcrime_to_buckets\u001b[0;34m(crime_df, (lat, lon))\u001b[0m\n\u001b[1;32m    184\u001b[0m \u001b[0;34m\u001b[0m\u001b[0m\n\u001b[1;32m    185\u001b[0m \u001b[0;32mdef\u001b[0m \u001b[0mcrime_to_buckets\u001b[0m\u001b[0;34m(\u001b[0m\u001b[0mcrime_df\u001b[0m\u001b[0;34m,\u001b[0m \u001b[0;34m(\u001b[0m\u001b[0mlat\u001b[0m\u001b[0;34m,\u001b[0m \u001b[0mlon\u001b[0m\u001b[0;34m)\u001b[0m\u001b[0;34m)\u001b[0m\u001b[0;34m:\u001b[0m\u001b[0;34m\u001b[0m\u001b[0m\n\u001b[0;32m--> 186\u001b[0;31m     \u001b[0mdistances\u001b[0m \u001b[0;34m=\u001b[0m \u001b[0mcrime_df\u001b[0m\u001b[0;34m.\u001b[0m\u001b[0mapply\u001b[0m\u001b[0;34m(\u001b[0m\u001b[0;32mlambda\u001b[0m \u001b[0mr\u001b[0m \u001b[0;34m:\u001b[0m \u001b[0mdistance\u001b[0m\u001b[0;34m(\u001b[0m\u001b[0;34m(\u001b[0m\u001b[0mlat\u001b[0m\u001b[0;34m,\u001b[0m\u001b[0mlon\u001b[0m\u001b[0;34m)\u001b[0m\u001b[0;34m,\u001b[0m \u001b[0;34m(\u001b[0m\u001b[0mr\u001b[0m\u001b[0;34m[\u001b[0m\u001b[0;34m'latitude'\u001b[0m\u001b[0;34m]\u001b[0m\u001b[0;34m,\u001b[0m \u001b[0mr\u001b[0m\u001b[0;34m[\u001b[0m\u001b[0;34m'longitude'\u001b[0m\u001b[0;34m]\u001b[0m\u001b[0;34m)\u001b[0m\u001b[0;34m)\u001b[0m\u001b[0;34m,\u001b[0m \u001b[0maxis\u001b[0m\u001b[0;34m=\u001b[0m\u001b[0;36m1\u001b[0m\u001b[0;34m)\u001b[0m\u001b[0;34m\u001b[0m\u001b[0m\n\u001b[0m\u001b[1;32m    187\u001b[0m     \u001b[0mkeep\u001b[0m \u001b[0;34m=\u001b[0m \u001b[0mdistances\u001b[0m \u001b[0;34m<\u001b[0m \u001b[0;36m3\u001b[0m\u001b[0;34m\u001b[0m\u001b[0m\n\u001b[1;32m    188\u001b[0m     \u001b[0;32mreturn\u001b[0m \u001b[0mcrime_df\u001b[0m\u001b[0;34m[\u001b[0m\u001b[0mkeep\u001b[0m\u001b[0;34m]\u001b[0m\u001b[0;34m\u001b[0m\u001b[0m\n",
      "\u001b[0;32m/usr/local/lib/python2.7/site-packages/pandas/core/frame.pyc\u001b[0m in \u001b[0;36mapply\u001b[0;34m(self, func, axis, broadcast, raw, reduce, args, **kwds)\u001b[0m\n\u001b[1;32m   4161\u001b[0m                     \u001b[0;32mif\u001b[0m \u001b[0mreduce\u001b[0m \u001b[0;32mis\u001b[0m \u001b[0mNone\u001b[0m\u001b[0;34m:\u001b[0m\u001b[0;34m\u001b[0m\u001b[0m\n\u001b[1;32m   4162\u001b[0m                         \u001b[0mreduce\u001b[0m \u001b[0;34m=\u001b[0m \u001b[0mTrue\u001b[0m\u001b[0;34m\u001b[0m\u001b[0m\n\u001b[0;32m-> 4163\u001b[0;31m                     \u001b[0;32mreturn\u001b[0m \u001b[0mself\u001b[0m\u001b[0;34m.\u001b[0m\u001b[0m_apply_standard\u001b[0m\u001b[0;34m(\u001b[0m\u001b[0mf\u001b[0m\u001b[0;34m,\u001b[0m \u001b[0maxis\u001b[0m\u001b[0;34m,\u001b[0m \u001b[0mreduce\u001b[0m\u001b[0;34m=\u001b[0m\u001b[0mreduce\u001b[0m\u001b[0;34m)\u001b[0m\u001b[0;34m\u001b[0m\u001b[0m\n\u001b[0m\u001b[1;32m   4164\u001b[0m             \u001b[0;32melse\u001b[0m\u001b[0;34m:\u001b[0m\u001b[0;34m\u001b[0m\u001b[0m\n\u001b[1;32m   4165\u001b[0m                 \u001b[0;32mreturn\u001b[0m \u001b[0mself\u001b[0m\u001b[0;34m.\u001b[0m\u001b[0m_apply_broadcast\u001b[0m\u001b[0;34m(\u001b[0m\u001b[0mf\u001b[0m\u001b[0;34m,\u001b[0m \u001b[0maxis\u001b[0m\u001b[0;34m)\u001b[0m\u001b[0;34m\u001b[0m\u001b[0m\n",
      "\u001b[0;32m/usr/local/lib/python2.7/site-packages/pandas/core/frame.pyc\u001b[0m in \u001b[0;36m_apply_standard\u001b[0;34m(self, func, axis, ignore_failures, reduce)\u001b[0m\n\u001b[1;32m   4257\u001b[0m             \u001b[0;32mtry\u001b[0m\u001b[0;34m:\u001b[0m\u001b[0;34m\u001b[0m\u001b[0m\n\u001b[1;32m   4258\u001b[0m                 \u001b[0;32mfor\u001b[0m \u001b[0mi\u001b[0m\u001b[0;34m,\u001b[0m \u001b[0mv\u001b[0m \u001b[0;32min\u001b[0m \u001b[0menumerate\u001b[0m\u001b[0;34m(\u001b[0m\u001b[0mseries_gen\u001b[0m\u001b[0;34m)\u001b[0m\u001b[0;34m:\u001b[0m\u001b[0;34m\u001b[0m\u001b[0m\n\u001b[0;32m-> 4259\u001b[0;31m                     \u001b[0mresults\u001b[0m\u001b[0;34m[\u001b[0m\u001b[0mi\u001b[0m\u001b[0;34m]\u001b[0m \u001b[0;34m=\u001b[0m \u001b[0mfunc\u001b[0m\u001b[0;34m(\u001b[0m\u001b[0mv\u001b[0m\u001b[0;34m)\u001b[0m\u001b[0;34m\u001b[0m\u001b[0m\n\u001b[0m\u001b[1;32m   4260\u001b[0m                     \u001b[0mkeys\u001b[0m\u001b[0;34m.\u001b[0m\u001b[0mappend\u001b[0m\u001b[0;34m(\u001b[0m\u001b[0mv\u001b[0m\u001b[0;34m.\u001b[0m\u001b[0mname\u001b[0m\u001b[0;34m)\u001b[0m\u001b[0;34m\u001b[0m\u001b[0m\n\u001b[1;32m   4261\u001b[0m             \u001b[0;32mexcept\u001b[0m \u001b[0mException\u001b[0m \u001b[0;32mas\u001b[0m \u001b[0me\u001b[0m\u001b[0;34m:\u001b[0m\u001b[0;34m\u001b[0m\u001b[0m\n",
      "\u001b[0;32m/Users/SamuelGreen/Dropbox/__SeniorFall/Stat121/project/downloader/download.pyc\u001b[0m in \u001b[0;36m<lambda>\u001b[0;34m(r)\u001b[0m\n\u001b[1;32m    184\u001b[0m \u001b[0;34m\u001b[0m\u001b[0m\n\u001b[1;32m    185\u001b[0m \u001b[0;32mdef\u001b[0m \u001b[0mcrime_to_buckets\u001b[0m\u001b[0;34m(\u001b[0m\u001b[0mcrime_df\u001b[0m\u001b[0;34m,\u001b[0m \u001b[0;34m(\u001b[0m\u001b[0mlat\u001b[0m\u001b[0;34m,\u001b[0m \u001b[0mlon\u001b[0m\u001b[0;34m)\u001b[0m\u001b[0;34m)\u001b[0m\u001b[0;34m:\u001b[0m\u001b[0;34m\u001b[0m\u001b[0m\n\u001b[0;32m--> 186\u001b[0;31m     \u001b[0mdistances\u001b[0m \u001b[0;34m=\u001b[0m \u001b[0mcrime_df\u001b[0m\u001b[0;34m.\u001b[0m\u001b[0mapply\u001b[0m\u001b[0;34m(\u001b[0m\u001b[0;32mlambda\u001b[0m \u001b[0mr\u001b[0m \u001b[0;34m:\u001b[0m \u001b[0mdistance\u001b[0m\u001b[0;34m(\u001b[0m\u001b[0;34m(\u001b[0m\u001b[0mlat\u001b[0m\u001b[0;34m,\u001b[0m\u001b[0mlon\u001b[0m\u001b[0;34m)\u001b[0m\u001b[0;34m,\u001b[0m \u001b[0;34m(\u001b[0m\u001b[0mr\u001b[0m\u001b[0;34m[\u001b[0m\u001b[0;34m'latitude'\u001b[0m\u001b[0;34m]\u001b[0m\u001b[0;34m,\u001b[0m \u001b[0mr\u001b[0m\u001b[0;34m[\u001b[0m\u001b[0;34m'longitude'\u001b[0m\u001b[0;34m]\u001b[0m\u001b[0;34m)\u001b[0m\u001b[0;34m)\u001b[0m\u001b[0;34m,\u001b[0m \u001b[0maxis\u001b[0m\u001b[0;34m=\u001b[0m\u001b[0;36m1\u001b[0m\u001b[0;34m)\u001b[0m\u001b[0;34m\u001b[0m\u001b[0m\n\u001b[0m\u001b[1;32m    187\u001b[0m     \u001b[0mkeep\u001b[0m \u001b[0;34m=\u001b[0m \u001b[0mdistances\u001b[0m \u001b[0;34m<\u001b[0m \u001b[0;36m3\u001b[0m\u001b[0;34m\u001b[0m\u001b[0m\n\u001b[1;32m    188\u001b[0m     \u001b[0;32mreturn\u001b[0m \u001b[0mcrime_df\u001b[0m\u001b[0;34m[\u001b[0m\u001b[0mkeep\u001b[0m\u001b[0;34m]\u001b[0m\u001b[0;34m\u001b[0m\u001b[0m\n",
      "\u001b[0;32m/usr/local/lib/python2.7/site-packages/pandas/core/series.pyc\u001b[0m in \u001b[0;36m__getitem__\u001b[0;34m(self, key)\u001b[0m\n\u001b[1;32m    599\u001b[0m         \u001b[0mkey\u001b[0m \u001b[0;34m=\u001b[0m \u001b[0mcom\u001b[0m\u001b[0;34m.\u001b[0m\u001b[0m_apply_if_callable\u001b[0m\u001b[0;34m(\u001b[0m\u001b[0mkey\u001b[0m\u001b[0;34m,\u001b[0m \u001b[0mself\u001b[0m\u001b[0;34m)\u001b[0m\u001b[0;34m\u001b[0m\u001b[0m\n\u001b[1;32m    600\u001b[0m         \u001b[0;32mtry\u001b[0m\u001b[0;34m:\u001b[0m\u001b[0;34m\u001b[0m\u001b[0m\n\u001b[0;32m--> 601\u001b[0;31m             \u001b[0mresult\u001b[0m \u001b[0;34m=\u001b[0m \u001b[0mself\u001b[0m\u001b[0;34m.\u001b[0m\u001b[0mindex\u001b[0m\u001b[0;34m.\u001b[0m\u001b[0mget_value\u001b[0m\u001b[0;34m(\u001b[0m\u001b[0mself\u001b[0m\u001b[0;34m,\u001b[0m \u001b[0mkey\u001b[0m\u001b[0;34m)\u001b[0m\u001b[0;34m\u001b[0m\u001b[0m\n\u001b[0m\u001b[1;32m    602\u001b[0m \u001b[0;34m\u001b[0m\u001b[0m\n\u001b[1;32m    603\u001b[0m             \u001b[0;32mif\u001b[0m \u001b[0;32mnot\u001b[0m \u001b[0mis_scalar\u001b[0m\u001b[0;34m(\u001b[0m\u001b[0mresult\u001b[0m\u001b[0;34m)\u001b[0m\u001b[0;34m:\u001b[0m\u001b[0;34m\u001b[0m\u001b[0m\n",
      "\u001b[0;32m/usr/local/lib/python2.7/site-packages/pandas/indexes/base.pyc\u001b[0m in \u001b[0;36mget_value\u001b[0;34m(self, series, key)\u001b[0m\n\u001b[1;32m   2162\u001b[0m \u001b[0;34m\u001b[0m\u001b[0m\n\u001b[1;32m   2163\u001b[0m         \u001b[0ms\u001b[0m \u001b[0;34m=\u001b[0m \u001b[0m_values_from_object\u001b[0m\u001b[0;34m(\u001b[0m\u001b[0mseries\u001b[0m\u001b[0;34m)\u001b[0m\u001b[0;34m\u001b[0m\u001b[0m\n\u001b[0;32m-> 2164\u001b[0;31m         \u001b[0mk\u001b[0m \u001b[0;34m=\u001b[0m \u001b[0m_values_from_object\u001b[0m\u001b[0;34m(\u001b[0m\u001b[0mkey\u001b[0m\u001b[0;34m)\u001b[0m\u001b[0;34m\u001b[0m\u001b[0m\n\u001b[0m\u001b[1;32m   2165\u001b[0m \u001b[0;34m\u001b[0m\u001b[0m\n\u001b[1;32m   2166\u001b[0m         \u001b[0mk\u001b[0m \u001b[0;34m=\u001b[0m \u001b[0mself\u001b[0m\u001b[0;34m.\u001b[0m\u001b[0m_convert_scalar_indexer\u001b[0m\u001b[0;34m(\u001b[0m\u001b[0mk\u001b[0m\u001b[0;34m,\u001b[0m \u001b[0mkind\u001b[0m\u001b[0;34m=\u001b[0m\u001b[0;34m'getitem'\u001b[0m\u001b[0;34m)\u001b[0m\u001b[0;34m\u001b[0m\u001b[0m\n",
      "\u001b[0;31mKeyboardInterrupt\u001b[0m: "
     ]
    }
   ],
   "source": [
    "main(date=datetime.datetime.strptime('01/01/2015', '%m/%d/%Y'), export=True)"
   ]
  },
  {
   "cell_type": "raw",
   "metadata": {
    "collapsed": false
   },
   "source": [
    "#DO NOT RUN THIS CELL\n",
    "from IPython.display import Image, display\n",
    "\n",
    "import os\n",
    "\n",
    "for imageName in os.listdir('images/')[1:]:\n",
    "    display(Image(filename='images/'+imageName))"
   ]
  },
  {
   "cell_type": "markdown",
   "metadata": {},
   "source": [
    "First we load in the data:"
   ]
  },
  {
   "cell_type": "code",
   "execution_count": null,
   "metadata": {
    "collapsed": false
   },
   "outputs": [],
   "source": [
    "data = pd.read_csv('DOWNLOADED_DATA_1.csv')"
   ]
  },
  {
   "cell_type": "markdown",
   "metadata": {},
   "source": [
    "Now we check out the columns:"
   ]
  },
  {
   "cell_type": "markdown",
   "metadata": {},
   "source": [
    "These functions build binary indicators for license types "
   ]
  },
  {
   "cell_type": "code",
   "execution_count": null,
   "metadata": {
    "collapsed": false
   },
   "outputs": [],
   "source": [
    "def fail(result):\n",
    "    if 'Fail' in result:\n",
    "        return 0\n",
    "    else:\n",
    "        return 1\n",
    "    \n",
    "def tobacco(license_description):\n",
    "    if 'Tobacco Retail Over Counter' == license_description:\n",
    "        return 1\n",
    "    else:\n",
    "        return 0\n",
    "    \n",
    "def liquor(license_description):\n",
    "    if 'Consumption on Premises - Incidental Activity' == license_description:\n",
    "        return 1\n",
    "    else:\n",
    "        return 0\n",
    "    \n",
    "def grocery_store(facility_type):\n",
    "    if 'Grocery Store' == facility_type:\n",
    "        return 1\n",
    "    else:\n",
    "        return 0"
   ]
  },
  {
   "cell_type": "code",
   "execution_count": null,
   "metadata": {
    "collapsed": false
   },
   "outputs": [],
   "source": [
    "data['result_binary'] = [fail(result) for result in data.results]\n",
    "data['consumption_license'] = [liquor(license) for license in data.license_description]\n",
    "data['tobacco'] = [tobacco(license) for license in data.license_description]\n",
    "data['grocery'] = [grocery_store(facility_type) for facility_type in data.facility_type]"
   ]
  },
  {
   "cell_type": "code",
   "execution_count": null,
   "metadata": {
    "collapsed": false
   },
   "outputs": [],
   "source": [
    "data['inspection_date'] = pd.to_datetime(data['inspection_date'])\n",
    "data['license_start_date'] = pd.to_datetime(data['license_start_date'])\n",
    "data['date_issued'] = pd.to_datetime(data['date_issued'])\n",
    "data['creation_date'] = pd.to_datetime(data['creation_date'])"
   ]
  },
  {
   "cell_type": "code",
   "execution_count": null,
   "metadata": {
    "collapsed": true
   },
   "outputs": [],
   "source": [
    "import re\n",
    "\n",
    "critical_flags = re.compile(r'(\\bCRITICAL\\b)',flags = re.IGNORECASE)\n",
    "serious_flags = re.compile(r'(\\bSERIOUS\\b)',flags = re.IGNORECASE)\n",
    "citation_flags = re.compile(r'(\\bCITATION\\b)',flags = re.IGNORECASE)\n",
    "violation_flags = re.compile(r'(\\bVIOLATION\\b)',flags = re.IGNORECASE)\n",
    "minor_flags = re.compile(r'(\\bMINOR\\b)',flags = re.IGNORECASE)\n"
   ]
  },
  {
   "cell_type": "code",
   "execution_count": null,
   "metadata": {
    "collapsed": false
   },
   "outputs": [],
   "source": [
    "violations_count = []\n",
    "citations_count = []\n",
    "critical_count = []\n",
    "serious_count = []\n",
    "minor_count = []\n",
    "\n",
    "LOG_EVERY_N = 10000\n",
    "\n",
    "\n",
    "  \n",
    "for index in data.index:\n",
    "    text = data.ix[index].violations\n",
    "    \n",
    "    if type(text) == type(' '):\n",
    "        violations_count.append(violation_flags.subn('',text)[1])\n",
    "        citations_count.append(citation_flags.subn('',text)[1])\n",
    "        critical_count.append(critical_flags.subn('',text)[1])\n",
    "        serious_count.append(serious_flags.subn('',text)[1])\n",
    "        minor_count.append(minor_flags.subn('',text)[1])\n",
    "\n",
    "    else:\n",
    "        violations_count.append(float('nan'))\n",
    "        citations_count.append(float('nan'))\n",
    "        critical_count.append(float('nan'))\n",
    "        serious_count.append(float('nan'))\n",
    "        minor_count.append(float('nan'))\n",
    "        \n",
    "    if (index % LOG_EVERY_N) == 0:\n",
    "        print index\n"
   ]
  },
  {
   "cell_type": "code",
   "execution_count": null,
   "metadata": {
    "collapsed": true
   },
   "outputs": [],
   "source": [
    "data['violations_count'] = violations_count\n",
    "data['citations_count'] = citations_count\n",
    "data['critical_count'] = critical_count\n",
    "data['serious_count'] = serious_count\n",
    "data['minor_count'] = minor_count\n",
    "\n"
   ]
  },
  {
   "cell_type": "code",
   "execution_count": null,
   "metadata": {
    "collapsed": false
   },
   "outputs": [],
   "source": [
    "# compare pass rates for different violation counts\n",
    "bins = np.linspace(0,6,7)\n",
    "data[data.result_binary == 1].citations_count.hist(normed=False,alpha=0.5,bins=bins)\n",
    "data[data.result_binary == 0].citations_count.hist(normed=False,alpha=0.5,bins=bins)"
   ]
  },
  {
   "cell_type": "code",
   "execution_count": null,
   "metadata": {
    "collapsed": false
   },
   "outputs": [],
   "source": [
    "def prev_inspection_features(data,inspection_id,date):\n",
    "    current_inspection = data.ix[data[data.inspection_id==inspection_id].index[0]]\n",
    "    \n",
    "    all_inspections = data[data.license_ == current_inspection.license_]\n",
    "    \n",
    "    previous_inspections = all_inspections[all_inspections.inspection_date < date]\n",
    "    if len(previous_inspections) >= 1:\n",
    "        last_inspection_index = previous_inspections.inspection_date.sort_values().index[-1]\n",
    "        fraction = previous_inspections.result_binary.mean()\n",
    "        count = previous_inspections.result_binary.count()\n",
    "        last = previous_inspections.result_binary[last_inspection_index]\n",
    "        \n",
    "        if type(pd.to_datetime('nan')) != type(current_inspection.license_start_date):\n",
    "            license_age = current_inspection.inspection_date - current_inspection.license_start_date\n",
    "            license_age = license_age.days\n",
    "            if license_age <= 0:\n",
    "                license_age = 0\n",
    "        else:\n",
    "            license_age = float('nan')\n",
    "            \n",
    "        time_since_last = current_inspection.inspection_date - previous_inspections.ix[last_inspection_index].inspection_date\n",
    "        time_since_last = time_since_last.days\n",
    "        \n",
    "        prev_violations = previous_inspections.violations_count[last_inspection_index]\n",
    "        prev_citations = previous_inspections.citations_count[last_inspection_index]\n",
    "        prev_critical = previous_inspections.critical_count[last_inspection_index]\n",
    "        prev_serious = previous_inspections.serious_count[last_inspection_index]\n",
    "        prev_minor = previous_inspections.minor_count[last_inspection_index]\n",
    "        \n",
    "        \n",
    "        \n",
    "    else:\n",
    "        fraction = float('nan')\n",
    "        count = 0\n",
    "        last = float('nan')\n",
    "        license_age = float('nan')\n",
    "        time_since_last = float('nan')\n",
    "        prev_violations = float('nan')\n",
    "        prev_citations = float('nan')\n",
    "        prev_critical = float('nan')\n",
    "        prev_serious = float('nan')\n",
    "        prev_minor = float('nan')\n",
    "        \n",
    "        \n",
    "        \n",
    "        \n",
    "    return np.array([count,\n",
    "                     fraction,\n",
    "                     last,\n",
    "                     license_age,\n",
    "                     time_since_last,\n",
    "                     prev_violations,\n",
    "                     prev_citations,\n",
    "                     prev_critical,\n",
    "                     prev_serious,\n",
    "                     prev_minor])\n",
    "    \n",
    "    \n"
   ]
  },
  {
   "cell_type": "code",
   "execution_count": null,
   "metadata": {
    "collapsed": false,
    "scrolled": false
   },
   "outputs": [],
   "source": [
    "previous_inspection_features = np.zeros((len(data.index),10))\n",
    "\n",
    "\n",
    "LOG_EVERY_N = 10000\n",
    "for index in data.index:\n",
    "    previous_inspection_features[index,:] = prev_inspection_features(data,data.ix[index].inspection_id,data.ix[index].inspection_date)\n",
    "    if (index % LOG_EVERY_N) == 0:\n",
    "        print index\n"
   ]
  },
  {
   "cell_type": "code",
   "execution_count": null,
   "metadata": {
    "collapsed": true
   },
   "outputs": [],
   "source": [
    "data['previous_count'] = previous_inspection_features[:,0]\n",
    "data['previous_fraction'] = previous_inspection_features[:,1]\n",
    "data['previous_result'] = previous_inspection_features[:,2]\n",
    "data['license_age'] = previous_inspection_features[:,3]\n",
    "data['time_since_last_inspection'] = previous_inspection_features[:,4]\n",
    "data['previous_violations'] = previous_inspection_features[:,5]\n",
    "data['previous_citations'] = previous_inspection_features[:,6]\n",
    "data['previous_critical'] = previous_inspection_features[:,7]\n",
    "data['previous_serious'] = previous_inspection_features[:,8]\n",
    "data['previous_minor'] = previous_inspection_features[:,9]\n",
    "\n"
   ]
  },
  {
   "cell_type": "code",
   "execution_count": null,
   "metadata": {
    "collapsed": false
   },
   "outputs": [],
   "source": [
    "for col in data.columns:\n",
    "    print col"
   ]
  },
  {
   "cell_type": "code",
   "execution_count": null,
   "metadata": {
    "collapsed": false
   },
   "outputs": [],
   "source": []
  },
  {
   "cell_type": "code",
   "execution_count": null,
   "metadata": {
    "collapsed": false
   },
   "outputs": [],
   "source": [
    "\n",
    "#adjust number of buckets using np.linspace ----------------->\n",
    "yedges = np.linspace(data.longitude.min(),data.longitude.max(),6)\n",
    "xedges = np.linspace(data.latitude.min(),data.latitude.max(),6)\n",
    "\n",
    "x = np.array(data.latitude)\n",
    "y = np.array(data.longitude)\n",
    "\n",
    "x1 = np.array(data[data.result_binary == 1].latitude)\n",
    "y1 = np.array(data[data.result_binary == 1].longitude)\n",
    "\n",
    "x0 = np.array(data[data.result_binary == 0].latitude)\n",
    "y0 = np.array(data[data.result_binary == 0].longitude)\n",
    "\n",
    "\n",
    "hist0, xedges, yedges = np.histogram2d(x0, y0, (xedges, yedges))\n",
    "hist1, xedges, yedges = np.histogram2d(x1, y1, (xedges, yedges))\n",
    "\n",
    "hist = hist0/(hist1+hist0)\n",
    "hist_count = hist1+hist0\n",
    "\n",
    "xidx = np.clip(np.digitize(x, xedges), 0, hist.shape[0]-1)\n",
    "yidx = np.clip(np.digitize(y, yedges), 0, hist.shape[1]-1)\n",
    "\n",
    "c = hist[xidx, yidx]\n",
    "plt.scatter(x, y, c=c)\n",
    "\n",
    "plt.show()\n",
    "\n",
    "sorted_index = np.argsort(hist.reshape(1,-1))\n",
    "\n",
    "print hist_count.reshape(1,-1)[0][sorted_index[0]]\n",
    "print hist.reshape(1,-1)[0][sorted_index[0]]"
   ]
  },
  {
   "cell_type": "code",
   "execution_count": null,
   "metadata": {
    "collapsed": false
   },
   "outputs": [],
   "source": [
    "data['bin_index'] = hist.shape[1]*yidx + xidx\n",
    "\n",
    "fig = plt.figure(figsize=(10,10)) # Create matplotlib figure\n",
    "\n",
    "ax = fig.add_subplot(111) # Create matplotlib axes\n",
    "ax2 = ax.twinx() # Create another axes that shares the same x-axis as ax.\n",
    "\n",
    "width = 0.4\n",
    "\n",
    "\n",
    "data.groupby('bin_index').count().result_binary.plot(kind='bar', color='red', ax=ax, width=width, position=1)\n",
    "data.groupby('bin_index').mean().result_binary.plot(kind='bar', color='blue', ax=ax2, width=width, position=0)\n",
    "\n",
    "\n",
    "plt.show()"
   ]
  },
  {
   "cell_type": "code",
   "execution_count": null,
   "metadata": {
    "collapsed": false
   },
   "outputs": [],
   "source": [
    "result_index = data.groupby('license_description').mean().result_binary.sort_values().index\n",
    "data.groupby('license_description').mean().result_binary.sort_values()[result_index]"
   ]
  },
  {
   "cell_type": "code",
   "execution_count": null,
   "metadata": {
    "collapsed": false
   },
   "outputs": [],
   "source": [
    "\n",
    "fig = plt.figure(figsize=(10,10)) # Create matplotlib figure\n",
    "\n",
    "ax = fig.add_subplot(111) # Create matplotlib axes\n",
    "ax2 = ax.twinx() # Create another axes that shares the same x-axis as ax.\n",
    "\n",
    "width = 0.4\n",
    "\n",
    "\n",
    "data.groupby('license_description').count().result_binary[result_index].plot(kind='bar', color='red', ax=ax, width=width, position=1)\n",
    "data.groupby('license_description').mean().result_binary.sort_values()[result_index].plot(kind='bar', color='blue', ax=ax2, width=width, position=0)\n",
    "\n",
    "\n",
    "plt.show()\n",
    "\n"
   ]
  },
  {
   "cell_type": "code",
   "execution_count": null,
   "metadata": {
    "collapsed": false
   },
   "outputs": [],
   "source": [
    "top_50 = data.groupby('facility_type').count().result_binary.sort_values().index[-50:]"
   ]
  },
  {
   "cell_type": "code",
   "execution_count": null,
   "metadata": {
    "collapsed": false
   },
   "outputs": [],
   "source": [
    "data.groupby('facility_type').mean().result_binary[top_50].sort_values()\n",
    "\n",
    "top_50count_mean_sorted_index = data.groupby('facility_type').mean().result_binary[top_50].sort_values().index\n",
    "\n"
   ]
  },
  {
   "cell_type": "code",
   "execution_count": null,
   "metadata": {
    "collapsed": false
   },
   "outputs": [],
   "source": [
    "\n",
    "fig = plt.figure(figsize=(10,10)) # Create matplotlib figure\n",
    "\n",
    "ax = fig.add_subplot(111) # Create matplotlib axes\n",
    "ax2 = ax.twinx() # Create another axes that shares the same x-axis as ax.\n",
    "\n",
    "width = 0.4\n",
    "\n",
    "\n",
    "data.groupby('facility_type').mean().result_binary[top_50].sort_values().plot(kind='bar', color='red', ax=ax, width=width, position=1)\n",
    "data.groupby('facility_type').count().result_binary[top_50count_mean_sorted_index].plot(kind='bar', color='blue', ax=ax2, width=width, position=0)\n",
    "\n",
    "\n",
    "plt.show()\n"
   ]
  },
  {
   "cell_type": "code",
   "execution_count": null,
   "metadata": {
    "collapsed": false
   },
   "outputs": [],
   "source": []
  },
  {
   "cell_type": "markdown",
   "metadata": {},
   "source": [
    "#### Baseline modeling"
   ]
  },
  {
   "cell_type": "code",
   "execution_count": null,
   "metadata": {
    "collapsed": false
   },
   "outputs": [],
   "source": [
    "# Simple averaging\n",
    "\n",
    "simple_avg_classifier = []\n",
    "\n",
    "for frac in data.previous_fraction:\n",
    "    if frac > 0.5:\n",
    "        simple_avg_classifier.append(1)\n",
    "    elif frac < 0.5:\n",
    "        simple_avg_classifier.append(1)\n",
    "    \n",
    "    else:\n",
    "        simple_avg_classifier.append(np.random.choice([0,1]))\n",
    "        \n",
    "print np.mean(np.array(simple_avg_classifier) == data.result_binary)"
   ]
  },
  {
   "cell_type": "code",
   "execution_count": null,
   "metadata": {
    "collapsed": false
   },
   "outputs": [],
   "source": [
    "cols = ['results', \n",
    "        'result_binary', \n",
    "        'risk', \n",
    "        'sanit_count', \n",
    "        'crime_count', \n",
    "        'consumption_license', \n",
    "        'tobacco', \n",
    "        'grocery', \n",
    "        'previous_count',\n",
    "        'minor_count',\n",
    "        'previous_fraction', \n",
    "        'previous_result', \n",
    "        'license_age', \n",
    "        'time_since_last_inspection', \n",
    "        'previous_violations', \n",
    "        'previous_citations', \n",
    "        'previous_critical', \n",
    "        'previous_serious', \n",
    "        'previous_minor', \n",
    "        'bin_index']\n",
    "\n",
    "print data[cols].shape\n",
    "print data.shape\n",
    "\n",
    "# select specific features\n",
    "data_sub = data[cols]\n",
    "# drop NaN\n",
    "data_sub = data_sub.dropna(axis=0)"
   ]
  },
  {
   "cell_type": "code",
   "execution_count": null,
   "metadata": {
    "collapsed": false
   },
   "outputs": [],
   "source": [
    "# check response\n",
    "print 'Useless response count:', sum((data_sub.results != 'Pass') & (data_sub.results != 'Pass w/ Conditions') & (data_sub.results != 'Fail'))\n",
    "indices = (data_sub.results == 'Pass') | (data_sub.results == 'Pass w/ Conditions') | (data_sub.results == 'Fail')\n",
    "data_sub = data_sub[indices]"
   ]
  },
  {
   "cell_type": "code",
   "execution_count": null,
   "metadata": {
    "collapsed": false
   },
   "outputs": [],
   "source": [
    "# response\n",
    "y2 = data_sub.result_binary\n",
    "y3 = data_sub.results\n",
    "# features\n",
    "x = data_sub.drop(['result_binary', 'results'], axis = 1) \n",
    "\n",
    "# print data_sub.shape, data_sub_x.shape, data_sub_y_2, data_sub_y_3"
   ]
  },
  {
   "cell_type": "code",
   "execution_count": null,
   "metadata": {
    "collapsed": true
   },
   "outputs": [],
   "source": [
    "# encode\n",
    "x_encoded = pd.DataFrame({})\n",
    "for column in x.columns:\n",
    "    if (x[column].unique().shape[0] < 8) or x[column].dtype == np.dtype('object'):\n",
    "        encoding = pd.get_dummies(x[column])\n",
    "        x_encoded = pd.concat([x_encoded, encoding], axis = 1)\n",
    "    else:\n",
    "        x_encoded = pd.concat([x_encoded, x[[column]].astype(float)], axis = 1)"
   ]
  },
  {
   "cell_type": "code",
   "execution_count": null,
   "metadata": {
    "collapsed": false
   },
   "outputs": [],
   "source": [
    "from sklearn import linear_model\n",
    "\n",
    "baseline = linear_model.LogisticRegression()\n",
    "baseline.fit(x_encoded, y2)\n",
    "print baseline.score(x_encoded, y2)\n",
    "\n",
    "baseline = linear_model.LogisticRegression(solver='newton-cg', multi_class = 'multinomial')\n",
    "baseline.fit(x_encoded, y3)\n",
    "print baseline.score(x_encoded, y3)"
   ]
  },
  {
   "cell_type": "code",
   "execution_count": null,
   "metadata": {
    "collapsed": false
   },
   "outputs": [],
   "source": [
    "# arbitary split\n",
    "from sklearn.cross_validation import train_test_split as sk_split\n",
    "test_size = 0.20\n",
    "x_train, x_test, y2_train, y2_test = sk_split(x_encoded, y2, test_size = test_size)\n",
    "\n",
    "baseline = linear_model.LogisticRegression()\n",
    "baseline.fit(x_train, y2_train)\n",
    "print 'Score:', baseline.score(x_test, y2_test)\n",
    "print 'Score for passing inspections:', baseline.score(x_train[y2_train == 1], y2_train[y2_train == 1])\n",
    "print 'Score for non-passing inspections:', baseline.score(x_train[y2_train == 0], y2_train[y2_train == 0])"
   ]
  },
  {
   "cell_type": "code",
   "execution_count": null,
   "metadata": {
    "collapsed": false
   },
   "outputs": [],
   "source": [
    "# class counts in training set\n",
    "\n",
    "print 'Count did not pass:', sum(y2_train == 0)\n",
    "print 'Count did pass:', sum(y2_train == 1)"
   ]
  },
  {
   "cell_type": "code",
   "execution_count": null,
   "metadata": {
    "collapsed": false
   },
   "outputs": [],
   "source": [
    "# quick fix for imbalance\n",
    "\n",
    "# takes x_train, y_train and returns a class-balanced x_train, y_train \n",
    "# assumes count of class 0 > count of class 1\n",
    "def subsample(x_train, y_train):\n",
    "    train = pd.concat([x_train, y_train], axis = 1)\n",
    "\n",
    "    train_0 = train[y_train == 0]\n",
    "    train_1 = train[y_train == 1]\n",
    "    \n",
    "    train_1_subsample = train_1.sample(train_0.shape[0])\n",
    "    \n",
    "    train_subsample = pd.concat([train_1_subsample, train_0], axis = 0)\n",
    "    \n",
    "    x_train_subsample = train_subsample.iloc[:, :-1]\n",
    "    y_train_subsample = train_subsample.iloc[:, -1]\n",
    "    \n",
    "    return x_train_subsample, y_train_subsample\n",
    "    \n",
    "## test subsampling algorithm with same simple classifier\n",
    "x_train_sub, y2_train_sub = subsample(x_train, y2_train)\n",
    "\n",
    "print x_train_sub.shape\n",
    "print y2_train_sub.shape\n"
   ]
  },
  {
   "cell_type": "code",
   "execution_count": null,
   "metadata": {
    "collapsed": false
   },
   "outputs": [],
   "source": [
    "baseline_cls_corr = linear_model.LogisticRegression()\n",
    "baseline_cls_corr.fit(x_train_sub, y2_train_sub)\n",
    "print 'Score:', baseline_cls_corr.score(x_test, y2_test)\n",
    "print 'Score for passing inspections:',baseline_cls_corr.score(x_test[y2_test == 1], y2_test[y2_test == 1])\n",
    "print 'Score for non-passing inspections:', baseline_cls_corr.score(x_test[y2_test == 0], y2_test[y2_test == 0])"
   ]
  }
 ],
 "metadata": {
  "kernelspec": {
   "display_name": "Python 2",
   "language": "python",
   "name": "python2"
  },
  "language_info": {
   "codemirror_mode": {
    "name": "ipython",
    "version": 2
   },
   "file_extension": ".py",
   "mimetype": "text/x-python",
   "name": "python",
   "nbconvert_exporter": "python",
   "pygments_lexer": "ipython2",
   "version": "2.7.11"
  }
 },
 "nbformat": 4,
 "nbformat_minor": 0
}
